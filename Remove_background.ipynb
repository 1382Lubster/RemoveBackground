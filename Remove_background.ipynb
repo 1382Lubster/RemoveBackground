{
  "nbformat": 4,
  "nbformat_minor": 0,
  "metadata": {
    "colab": {
      "provenance": []
    },
    "kernelspec": {
      "name": "python3",
      "display_name": "Python 3"
    },
    "language_info": {
      "name": "python"
    }
  },
  "cells": [
    {
      "cell_type": "code",
      "execution_count": null,
      "metadata": {
        "id": "ISaITqVnBCOZ"
      },
      "outputs": [],
      "source": [
        "!pip install rembg \n",
        "!pip install Pillow==9.1.0"
      ]
    },
    {
      "cell_type": "markdown",
      "source": [
        "# RESTART RUNTIME!"
      ],
      "metadata": {
        "id": "vlUjZM3McYUw"
      }
    },
    {
      "cell_type": "code",
      "source": [
        "from IPython.core.interactiveshell import InputRejected\n",
        "from rembg import remove\n",
        "from PIL import Image\n",
        "\n",
        "input_path = 'lubna.jpg' # input image path\n",
        "output_path = 'output.png' # output image path\n",
        "\n",
        "input = Image.open(input_path) # load image\n",
        "output = remove(input) # remove background\n",
        "output.save(output_path) # save image"
      ],
      "metadata": {
        "colab": {
          "base_uri": "https://localhost:8080/"
        },
        "id": "6MPWyvNUBGBj",
        "outputId": "2e0f7b6a-3c0b-4579-bc3d-e3a0f8d077f5"
      },
      "execution_count": 1,
      "outputs": [
        {
          "output_type": "stream",
          "name": "stderr",
          "text": [
            "Downloading data from 'https://github.com/danielgatis/rembg/releases/download/v0.0.0/u2net.onnx' to file '/root/.u2net/u2net.onnx'.\n",
            "100%|███████████████████████████████████████| 176M/176M [00:00<00:00, 25.3GB/s]\n"
          ]
        }
      ]
    },
    {
      "cell_type": "code",
      "source": [],
      "metadata": {
        "id": "F7AScnB2Bd74"
      },
      "execution_count": null,
      "outputs": []
    }
  ]
}